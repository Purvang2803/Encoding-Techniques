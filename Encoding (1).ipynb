{
 "cells": [
  {
   "cell_type": "markdown",
   "id": "dc6c7e24-c32d-494c-8695-61abf273bcc2",
   "metadata": {},
   "source": [
    "# <center><B>ENCODING TECHNIQUES</center>\n"
   ]
  },
  {
   "cell_type": "markdown",
   "id": "6d4c237f-f87d-4cd9-9991-a61b36f8f740",
   "metadata": {},
   "source": [
    "## Importing-libraries"
   ]
  },
  {
   "cell_type": "code",
   "execution_count": 43,
   "id": "b54522bc-9386-49de-89b2-9181d2d2a91b",
   "metadata": {},
   "outputs": [],
   "source": [
    "import category_encoders as ce\n",
    "import pandas as pd\n",
    "import warnings\n",
    "warnings.filterwarnings('ignore', category=FutureWarning)\n",
    "import time\n",
    "import matplotlib.pyplot as plt\n",
    "import random"
   ]
  },
  {
   "cell_type": "markdown",
   "id": "a96d1179-c4c6-4f7d-a00e-78778d1e8f76",
   "metadata": {},
   "source": [
    "### Types of Encoding in Machine Learning\n",
    "\n",
    "1. [Label Encoding or Ordinal Encoding](#label-encoding-or-ordinal-encoding)\n",
    "2. [One Hot Encoding](#one-hot-encoding)\n",
    "3. [Dummy Encoding](#dummy-encoding)\n",
    "4. [Effect Encoding](#effect-encoding)\n",
    "5. [Hash Encoding](#hash-encoding)\n",
    "6. [Binary Encoding](#binary-encoding)\n",
    "7. [Base N Encoding](#base-n-encoding)\n",
    "8. [Target Encoding](#target-encoding)\n"
   ]
  },
  {
   "cell_type": "markdown",
   "id": "feb0581c-48a4-4071-a1d9-346c8c63be28",
   "metadata": {},
   "source": [
    "## Label Encoding or Ordinal Encoding\n"
   ]
  },
  {
   "cell_type": "code",
   "execution_count": 38,
   "id": "9c53853b-8729-4e4e-97cc-87b383ec61bb",
   "metadata": {},
   "outputs": [
    {
     "name": "stdout",
     "output_type": "stream",
     "text": [
      "        Degree\n",
      "0  High school\n",
      "1      Masters\n",
      "2      Diploma\n",
      "3    Bachelors\n",
      "4    Bachelors\n",
      "5      Masters\n",
      "6          Phd\n",
      "7  High school\n",
      "8  High school\n"
     ]
    }
   ],
   "source": [
    "\n",
    "# Input DataFrame\n",
    "train_df = pd.DataFrame({'Degree': ['High school', 'Masters', 'Diploma', 'Bachelors', \n",
    "                                    'Bachelors', 'Masters', 'Phd', 'High school', 'High school']})\n",
    "\n",
    "# Corrected mapping with case-sensitive match\n",
    "encoder = ce.OrdinalEncoder(cols=['Degree'], return_df=True,\n",
    "                            mapping=[{'col': 'Degree',\n",
    "                                      'mapping': {'None': 0, 'High school': 1, 'Diploma': 2, \n",
    "                                                  'Bachelors': 3, 'Masters': 4, 'Phd': 5}}])\n",
    "\n",
    "# Transform data\n",
    "encoded_df = encoder.fit_transform(train_df)\n",
    "\n",
    "print(train_df)"
   ]
  },
  {
   "cell_type": "code",
   "execution_count": 39,
   "id": "26eaa7f7-ca3f-4fa6-937c-5438c16bce00",
   "metadata": {},
   "outputs": [
    {
     "data": {
      "text/html": [
       "<div>\n",
       "<style scoped>\n",
       "    .dataframe tbody tr th:only-of-type {\n",
       "        vertical-align: middle;\n",
       "    }\n",
       "\n",
       "    .dataframe tbody tr th {\n",
       "        vertical-align: top;\n",
       "    }\n",
       "\n",
       "    .dataframe thead th {\n",
       "        text-align: right;\n",
       "    }\n",
       "</style>\n",
       "<table border=\"1\" class=\"dataframe\">\n",
       "  <thead>\n",
       "    <tr style=\"text-align: right;\">\n",
       "      <th></th>\n",
       "      <th>Degree</th>\n",
       "    </tr>\n",
       "  </thead>\n",
       "  <tbody>\n",
       "    <tr>\n",
       "      <th>0</th>\n",
       "      <td>1</td>\n",
       "    </tr>\n",
       "    <tr>\n",
       "      <th>1</th>\n",
       "      <td>4</td>\n",
       "    </tr>\n",
       "    <tr>\n",
       "      <th>2</th>\n",
       "      <td>2</td>\n",
       "    </tr>\n",
       "    <tr>\n",
       "      <th>3</th>\n",
       "      <td>3</td>\n",
       "    </tr>\n",
       "    <tr>\n",
       "      <th>4</th>\n",
       "      <td>3</td>\n",
       "    </tr>\n",
       "    <tr>\n",
       "      <th>5</th>\n",
       "      <td>4</td>\n",
       "    </tr>\n",
       "    <tr>\n",
       "      <th>6</th>\n",
       "      <td>5</td>\n",
       "    </tr>\n",
       "    <tr>\n",
       "      <th>7</th>\n",
       "      <td>1</td>\n",
       "    </tr>\n",
       "    <tr>\n",
       "      <th>8</th>\n",
       "      <td>1</td>\n",
       "    </tr>\n",
       "  </tbody>\n",
       "</table>\n",
       "</div>"
      ],
      "text/plain": [
       "   Degree\n",
       "0       1\n",
       "1       4\n",
       "2       2\n",
       "3       3\n",
       "4       3\n",
       "5       4\n",
       "6       5\n",
       "7       1\n",
       "8       1"
      ]
     },
     "execution_count": 39,
     "metadata": {},
     "output_type": "execute_result"
    }
   ],
   "source": [
    "encoder.fit_transform(train_df)\n"
   ]
  },
  {
   "cell_type": "markdown",
   "id": "e513652b-45df-4d94-8915-520ef7ca86d4",
   "metadata": {},
   "source": [
    "<B>Explanation:<br>\n",
    "\n",
    "Ordinal encoding is used to convert categorical data with a natural order or hierarchy into numerical values, making it suitable for machine learning algorithms. In the given example, the Degree column contains categories like High school, Diploma, and PhD, which have an inherent progression. By assigning values such as High school → 1, Diploma → 2, and so on, the encoding preserves this order and allows models to understand the relative ranking of categories. The custom mapping ensures consistency and alignment with domain knowledge, making the data both interpretable and usable for algorithms that require numerical inputs. This method is ideal for features with ordinal relationships, unlike nominal data where one-hot encoding is preferred.\n",
    "\n",
    "\n"
   ]
  },
  {
   "cell_type": "markdown",
   "id": "b6b42a62-de49-4a78-ba01-860e1cbe5ff8",
   "metadata": {},
   "source": [
    "#### Time complexity graph"
   ]
  },
  {
   "cell_type": "code",
   "execution_count": 46,
   "id": "ab7a500a-1d46-4ed4-bb21-979c95af2acb",
   "metadata": {},
   "outputs": [
    {
     "data": {
      "image/png": "[encoded data removed]",
      "text/plain": [
       "<Figure size 1000x600 with 1 Axes>"
      ]
     },
     "metadata": {},
     "output_type": "display_data"
    }
   ],
   "source": [
    "sizes = [random.randint(10, 100000) for _ in range(7)]\n",
    "sizes.sort()\n",
    "times = []\n",
    "for size in sizes:\n",
    "    # Generate sample data\n",
    "    data = pd.DataFrame({'Degree': ['High school', 'Masters', 'Diploma', 'Bachelors', 'Phd'] * (size // 5)})\n",
    "    \n",
    "    \n",
    "    # Measure time for encoding\n",
    "    start_time = time.time()\n",
    "    encoder.fit_transform(data)\n",
    "    times.append(time.time() - start_time)\n",
    "\n",
    "# Plotting the time complexity graph\n",
    "plt.figure(figsize=(10, 6))\n",
    "plt.plot(sizes, times, marker='o', color='b', label='Ordinal Encoding Time')\n",
    "plt.title(\"Time Complexity of Ordinal Encoding\", fontsize=14)\n",
    "plt.xlabel(\"Number of Rows\", fontsize=12)\n",
    "plt.ylabel(\"Time (seconds)\", fontsize=12)\n",
    "plt.grid(True)\n",
    "plt.legend(fontsize=12)\n",
    "plt.show()\n"
   ]
  },
  {
   "cell_type": "markdown",
   "id": "7fc31d7e-dca2-43ab-b416-0f8d1c244ff8",
   "metadata": {},
   "source": [
    "### One Hot Encoding"
   ]
  },
  {
   "cell_type": "code",
   "execution_count": 4,
   "id": "6c0226f9-a785-43a0-a848-f7bb943cb15a",
   "metadata": {},
   "outputs": [
    {
     "data": {
      "text/html": [
       "<div>\n",
       "<style scoped>\n",
       "    .dataframe tbody tr th:only-of-type {\n",
       "        vertical-align: middle;\n",
       "    }\n",
       "\n",
       "    .dataframe tbody tr th {\n",
       "        vertical-align: top;\n",
       "    }\n",
       "\n",
       "    .dataframe thead th {\n",
       "        text-align: right;\n",
       "    }\n",
       "</style>\n",
       "<table border=\"1\" class=\"dataframe\">\n",
       "  <thead>\n",
       "    <tr style=\"text-align: right;\">\n",
       "      <th></th>\n",
       "      <th>City</th>\n",
       "    </tr>\n",
       "  </thead>\n",
       "  <tbody>\n",
       "    <tr>\n",
       "      <th>0</th>\n",
       "      <td>Delhi</td>\n",
       "    </tr>\n",
       "    <tr>\n",
       "      <th>1</th>\n",
       "      <td>Mumbai</td>\n",
       "    </tr>\n",
       "    <tr>\n",
       "      <th>2</th>\n",
       "      <td>Hydrabad</td>\n",
       "    </tr>\n",
       "    <tr>\n",
       "      <th>3</th>\n",
       "      <td>Chennai</td>\n",
       "    </tr>\n",
       "    <tr>\n",
       "      <th>4</th>\n",
       "      <td>Bangalore</td>\n",
       "    </tr>\n",
       "    <tr>\n",
       "      <th>5</th>\n",
       "      <td>Delhi</td>\n",
       "    </tr>\n",
       "    <tr>\n",
       "      <th>6</th>\n",
       "      <td>Hydrabad</td>\n",
       "    </tr>\n",
       "    <tr>\n",
       "      <th>7</th>\n",
       "      <td>Bangalore</td>\n",
       "    </tr>\n",
       "    <tr>\n",
       "      <th>8</th>\n",
       "      <td>Delhi</td>\n",
       "    </tr>\n",
       "  </tbody>\n",
       "</table>\n",
       "</div>"
      ],
      "text/plain": [
       "        City\n",
       "0      Delhi\n",
       "1     Mumbai\n",
       "2   Hydrabad\n",
       "3    Chennai\n",
       "4  Bangalore\n",
       "5      Delhi\n",
       "6   Hydrabad\n",
       "7  Bangalore\n",
       "8      Delhi"
      ]
     },
     "execution_count": 4,
     "metadata": {},
     "output_type": "execute_result"
    }
   ],
   "source": [
    "data=pd.DataFrame({'City':[\n",
    "'Delhi','Mumbai','Hydrabad','Chennai','Bangalore','Delhi','Hydrabad','Bangalore','Delhi'\n",
    "]})\n",
    "\n",
    "#Create object for one-hot encoding\n",
    "encoder=ce.OneHotEncoder(cols='City',handle_unknown='return_nan',return_df=True,use_cat_names=True)\n",
    "\n",
    "#Original Data\n",
    "data"
   ]
  },
  {
   "cell_type": "code",
   "execution_count": 5,
   "id": "9ec3f260-e241-4922-bb79-470b915436c2",
   "metadata": {},
   "outputs": [
    {
     "data": {
      "text/html": [
       "<div>\n",
       "<style scoped>\n",
       "    .dataframe tbody tr th:only-of-type {\n",
       "        vertical-align: middle;\n",
       "    }\n",
       "\n",
       "    .dataframe tbody tr th {\n",
       "        vertical-align: top;\n",
       "    }\n",
       "\n",
       "    .dataframe thead th {\n",
       "        text-align: right;\n",
       "    }\n",
       "</style>\n",
       "<table border=\"1\" class=\"dataframe\">\n",
       "  <thead>\n",
       "    <tr style=\"text-align: right;\">\n",
       "      <th></th>\n",
       "      <th>City_Delhi</th>\n",
       "      <th>City_Mumbai</th>\n",
       "      <th>City_Hydrabad</th>\n",
       "      <th>City_Chennai</th>\n",
       "      <th>City_Bangalore</th>\n",
       "    </tr>\n",
       "  </thead>\n",
       "  <tbody>\n",
       "    <tr>\n",
       "      <th>0</th>\n",
       "      <td>1.0</td>\n",
       "      <td>0.0</td>\n",
       "      <td>0.0</td>\n",
       "      <td>0.0</td>\n",
       "      <td>0.0</td>\n",
       "    </tr>\n",
       "    <tr>\n",
       "      <th>1</th>\n",
       "      <td>0.0</td>\n",
       "      <td>1.0</td>\n",
       "      <td>0.0</td>\n",
       "      <td>0.0</td>\n",
       "      <td>0.0</td>\n",
       "    </tr>\n",
       "    <tr>\n",
       "      <th>2</th>\n",
       "      <td>0.0</td>\n",
       "      <td>0.0</td>\n",
       "      <td>1.0</td>\n",
       "      <td>0.0</td>\n",
       "      <td>0.0</td>\n",
       "    </tr>\n",
       "    <tr>\n",
       "      <th>3</th>\n",
       "      <td>0.0</td>\n",
       "      <td>0.0</td>\n",
       "      <td>0.0</td>\n",
       "      <td>1.0</td>\n",
       "      <td>0.0</td>\n",
       "    </tr>\n",
       "    <tr>\n",
       "      <th>4</th>\n",
       "      <td>0.0</td>\n",
       "      <td>0.0</td>\n",
       "      <td>0.0</td>\n",
       "      <td>0.0</td>\n",
       "      <td>1.0</td>\n",
       "    </tr>\n",
       "    <tr>\n",
       "      <th>5</th>\n",
       "      <td>1.0</td>\n",
       "      <td>0.0</td>\n",
       "      <td>0.0</td>\n",
       "      <td>0.0</td>\n",
       "      <td>0.0</td>\n",
       "    </tr>\n",
       "    <tr>\n",
       "      <th>6</th>\n",
       "      <td>0.0</td>\n",
       "      <td>0.0</td>\n",
       "      <td>1.0</td>\n",
       "      <td>0.0</td>\n",
       "      <td>0.0</td>\n",
       "    </tr>\n",
       "    <tr>\n",
       "      <th>7</th>\n",
       "      <td>0.0</td>\n",
       "      <td>0.0</td>\n",
       "      <td>0.0</td>\n",
       "      <td>0.0</td>\n",
       "      <td>1.0</td>\n",
       "    </tr>\n",
       "    <tr>\n",
       "      <th>8</th>\n",
       "      <td>1.0</td>\n",
       "      <td>0.0</td>\n",
       "      <td>0.0</td>\n",
       "      <td>0.0</td>\n",
       "      <td>0.0</td>\n",
       "    </tr>\n",
       "  </tbody>\n",
       "</table>\n",
       "</div>"
      ],
      "text/plain": [
       "   City_Delhi  City_Mumbai  City_Hydrabad  City_Chennai  City_Bangalore\n",
       "0         1.0          0.0            0.0           0.0             0.0\n",
       "1         0.0          1.0            0.0           0.0             0.0\n",
       "2         0.0          0.0            1.0           0.0             0.0\n",
       "3         0.0          0.0            0.0           1.0             0.0\n",
       "4         0.0          0.0            0.0           0.0             1.0\n",
       "5         1.0          0.0            0.0           0.0             0.0\n",
       "6         0.0          0.0            1.0           0.0             0.0\n",
       "7         0.0          0.0            0.0           0.0             1.0\n",
       "8         1.0          0.0            0.0           0.0             0.0"
      ]
     },
     "execution_count": 5,
     "metadata": {},
     "output_type": "execute_result"
    }
   ],
   "source": [
    "#Fit and transform Data\n",
    "data_encoded = encoder.fit_transform(data)\n",
    "data_encoded"
   ]
  },
  {
   "cell_type": "markdown",
   "id": "874632ca-3b20-4d8e-ac5a-fc4eb312257c",
   "metadata": {},
   "source": [
    "<b>Explanation:<br>\n",
    "\n",
    "\n",
    "One-hot encoding is used when the categorical data has no inherent order or hierarchy, as in the City column, where values like Delhi, Mumbai, and Chennai are nominal and equally significant. This method creates separate binary columns for each category, with a 1 indicating the presence of that category and 0 otherwise. Unlike ordinal encoding, which imposes a numerical order, one-hot encoding ensures that all categories are treated independently, preventing models from interpreting a false relationship between categories. It is ideal for unordered data to avoid introducing bias and to allow algorithms to process each category distinctly."
   ]
  },
  {
   "cell_type": "markdown",
   "id": "e965b632-08fe-46d0-bffd-492f537cc360",
   "metadata": {},
   "source": [
    "#### Time Complexity Graph"
   ]
  },
  {
   "cell_type": "code",
   "execution_count": 51,
   "id": "3d77fe1e-fcf8-4521-90a7-a944f7b8f18b",
   "metadata": {},
   "outputs": [
    {
     "data": {
      "image/png": "[encoded data removed]",
      "text/plain": [
       "<Figure size 1000x600 with 1 Axes>"
      ]
     },
     "metadata": {},
     "output_type": "display_data"
    }
   ],
   "source": [
    "sizes = [random.randint(10, 100000) for _ in range(7)]  \n",
    "sizes.sort()  # Sort the sizes for better visualization\n",
    "times = []\n",
    "for size in sizes:\n",
    "  \n",
    "    data = pd.DataFrame({\n",
    "        'City': ['Delhi', 'Mumbai', 'Hydrabad', 'Chennai', 'Bangalore'] * (size // 5)\n",
    "    })\n",
    "    start_time = time.time()\n",
    "    data_encoded = encoder.fit_transform(data)\n",
    "    times.append(time.time() - start_time)\n",
    "\n",
    "\n",
    "plt.figure(figsize=(10, 6))\n",
    "plt.plot(sizes, times, marker='o', color='b', label='One-Hot Encoding Time')\n",
    "plt.title(\"Time Complexity of One-Hot Encoding \", fontsize=14)\n",
    "plt.xlabel(\"Number of Rows\", fontsize=12)\n",
    "plt.ylabel(\"Time (seconds)\", fontsize=12)\n",
    "plt.grid(True)\n",
    "plt.legend(fontsize=12)\n",
    "plt.show()\n"
   ]
  },
  {
   "cell_type": "markdown",
   "id": "dfc74ad1-543c-4acd-9d09-fa1e4bb14325",
   "metadata": {},
   "source": [
    "### Dummy Encoding"
   ]
  },
  {
   "cell_type": "code",
   "execution_count": 6,
   "id": "5eb2c308-9c46-4086-8434-fdf334b994fb",
   "metadata": {},
   "outputs": [
    {
     "data": {
      "text/html": [
       "<div>\n",
       "<style scoped>\n",
       "    .dataframe tbody tr th:only-of-type {\n",
       "        vertical-align: middle;\n",
       "    }\n",
       "\n",
       "    .dataframe tbody tr th {\n",
       "        vertical-align: top;\n",
       "    }\n",
       "\n",
       "    .dataframe thead th {\n",
       "        text-align: right;\n",
       "    }\n",
       "</style>\n",
       "<table border=\"1\" class=\"dataframe\">\n",
       "  <thead>\n",
       "    <tr style=\"text-align: right;\">\n",
       "      <th></th>\n",
       "      <th>City</th>\n",
       "    </tr>\n",
       "  </thead>\n",
       "  <tbody>\n",
       "    <tr>\n",
       "      <th>0</th>\n",
       "      <td>Delhi</td>\n",
       "    </tr>\n",
       "    <tr>\n",
       "      <th>1</th>\n",
       "      <td>Mumbai</td>\n",
       "    </tr>\n",
       "    <tr>\n",
       "      <th>2</th>\n",
       "      <td>Hyderabad</td>\n",
       "    </tr>\n",
       "    <tr>\n",
       "      <th>3</th>\n",
       "      <td>Chennai</td>\n",
       "    </tr>\n",
       "    <tr>\n",
       "      <th>4</th>\n",
       "      <td>Bangalore</td>\n",
       "    </tr>\n",
       "    <tr>\n",
       "      <th>5</th>\n",
       "      <td>Delhi</td>\n",
       "    </tr>\n",
       "    <tr>\n",
       "      <th>6</th>\n",
       "      <td>Hyderabad</td>\n",
       "    </tr>\n",
       "  </tbody>\n",
       "</table>\n",
       "</div>"
      ],
      "text/plain": [
       "        City\n",
       "0      Delhi\n",
       "1     Mumbai\n",
       "2  Hyderabad\n",
       "3    Chennai\n",
       "4  Bangalore\n",
       "5      Delhi\n",
       "6  Hyderabad"
      ]
     },
     "execution_count": 6,
     "metadata": {},
     "output_type": "execute_result"
    }
   ],
   "source": [
    "data=pd.DataFrame({'City':['Delhi','Mumbai','Hyderabad','Chennai','Bangalore','Delhi','Hyderabad']})\n",
    "\n",
    "#Original Data\n",
    "data\n"
   ]
  },
  {
   "cell_type": "code",
   "execution_count": 7,
   "id": "5a124b47-0c27-483b-8260-cf40784ad665",
   "metadata": {},
   "outputs": [
    {
     "data": {
      "text/html": [
       "<div>\n",
       "<style scoped>\n",
       "    .dataframe tbody tr th:only-of-type {\n",
       "        vertical-align: middle;\n",
       "    }\n",
       "\n",
       "    .dataframe tbody tr th {\n",
       "        vertical-align: top;\n",
       "    }\n",
       "\n",
       "    .dataframe thead th {\n",
       "        text-align: right;\n",
       "    }\n",
       "</style>\n",
       "<table border=\"1\" class=\"dataframe\">\n",
       "  <thead>\n",
       "    <tr style=\"text-align: right;\">\n",
       "      <th></th>\n",
       "      <th>City_Chennai</th>\n",
       "      <th>City_Delhi</th>\n",
       "      <th>City_Hyderabad</th>\n",
       "      <th>City_Mumbai</th>\n",
       "    </tr>\n",
       "  </thead>\n",
       "  <tbody>\n",
       "    <tr>\n",
       "      <th>0</th>\n",
       "      <td>False</td>\n",
       "      <td>True</td>\n",
       "      <td>False</td>\n",
       "      <td>False</td>\n",
       "    </tr>\n",
       "    <tr>\n",
       "      <th>1</th>\n",
       "      <td>False</td>\n",
       "      <td>False</td>\n",
       "      <td>False</td>\n",
       "      <td>True</td>\n",
       "    </tr>\n",
       "    <tr>\n",
       "      <th>2</th>\n",
       "      <td>False</td>\n",
       "      <td>False</td>\n",
       "      <td>True</td>\n",
       "      <td>False</td>\n",
       "    </tr>\n",
       "    <tr>\n",
       "      <th>3</th>\n",
       "      <td>True</td>\n",
       "      <td>False</td>\n",
       "      <td>False</td>\n",
       "      <td>False</td>\n",
       "    </tr>\n",
       "    <tr>\n",
       "      <th>4</th>\n",
       "      <td>False</td>\n",
       "      <td>False</td>\n",
       "      <td>False</td>\n",
       "      <td>False</td>\n",
       "    </tr>\n",
       "    <tr>\n",
       "      <th>5</th>\n",
       "      <td>False</td>\n",
       "      <td>True</td>\n",
       "      <td>False</td>\n",
       "      <td>False</td>\n",
       "    </tr>\n",
       "    <tr>\n",
       "      <th>6</th>\n",
       "      <td>False</td>\n",
       "      <td>False</td>\n",
       "      <td>True</td>\n",
       "      <td>False</td>\n",
       "    </tr>\n",
       "  </tbody>\n",
       "</table>\n",
       "</div>"
      ],
      "text/plain": [
       "   City_Chennai  City_Delhi  City_Hyderabad  City_Mumbai\n",
       "0         False        True           False        False\n",
       "1         False       False           False         True\n",
       "2         False       False            True        False\n",
       "3          True       False           False        False\n",
       "4         False       False           False        False\n",
       "5         False        True           False        False\n",
       "6         False       False            True        False"
      ]
     },
     "execution_count": 7,
     "metadata": {},
     "output_type": "execute_result"
    }
   ],
   "source": [
    "#encode the data\n",
    "data_encoded=pd.get_dummies(data=data,drop_first=True)\n",
    "data_encoded"
   ]
  },
  {
   "cell_type": "markdown",
   "id": "6c3a4c53-0bce-4ea5-a139-5e9f9b7e942a",
   "metadata": {},
   "source": [
    "<b>Explanation:<br>\n",
    "\n",
    "The pd.get_dummies() encoding technique is used here to perform one-hot encoding, which is ideal for nominal data like the City column, where categories such as Delhi, Mumbai, and Hyderabad have no inherent order or ranking. The drop_first=True parameter is used to avoid multicollinearity by removing one of the binary columns (the \"reference category\"). This reduces redundancy while still representing the categorical variable effectively. This technique ensures that the data is suitable for machine learning models, treating each category independently and avoiding any false numerical relationships."
   ]
  },
  {
   "cell_type": "markdown",
   "id": "67889b2a-68f0-48fb-b173-de313c5a780e",
   "metadata": {},
   "source": [
    "#### Time Complexity Graph"
   ]
  },
  {
   "cell_type": "code",
   "execution_count": 55,
   "id": "5cf8831c-1c02-4996-ac07-e182d494a09a",
   "metadata": {},
   "outputs": [
    {
     "data": {
      "image/png": "[encoded data removed]",
      "text/plain": [
       "<Figure size 640x480 with 1 Axes>"
      ]
     },
     "metadata": {},
     "output_type": "display_data"
    }
   ],
   "source": [
    "sizes = sorted([random.randint(10, 100000) for _ in range(7)])\n",
    "times = []\n",
    "\n",
    "for size in sizes:\n",
    "    data = pd.DataFrame({'City': ['Delhi', 'Mumbai', 'Hyderabad', 'Chennai', 'Bangalore'] * (size // 5)})\n",
    "    start_time = time.time()\n",
    "    pd.get_dummies(data, columns=['City'], drop_first=True)\n",
    "    times.append(time.time() - start_time)\n",
    "\n",
    "plt.plot(sizes, times, marker='o', color='b', label='Dummy Encoding Time')\n",
    "plt.title(\"Time Complexity of Dummy Encoding\")\n",
    "plt.xlabel(\"Number of Rows\")\n",
    "plt.ylabel(\"Time (seconds)\")\n",
    "plt.grid(True)\n",
    "plt.legend()\n",
    "plt.show()\n"
   ]
  },
  {
   "cell_type": "markdown",
   "id": "8fbe4013-c644-4b9b-b271-3ce26f36384c",
   "metadata": {},
   "source": [
    "### Effect Encoding"
   ]
  },
  {
   "cell_type": "code",
   "execution_count": 8,
   "id": "fbfd09a5-0ff7-450e-a6a5-dc141666edea",
   "metadata": {},
   "outputs": [
    {
     "data": {
      "text/html": [
       "<div>\n",
       "<style scoped>\n",
       "    .dataframe tbody tr th:only-of-type {\n",
       "        vertical-align: middle;\n",
       "    }\n",
       "\n",
       "    .dataframe tbody tr th {\n",
       "        vertical-align: top;\n",
       "    }\n",
       "\n",
       "    .dataframe thead th {\n",
       "        text-align: right;\n",
       "    }\n",
       "</style>\n",
       "<table border=\"1\" class=\"dataframe\">\n",
       "  <thead>\n",
       "    <tr style=\"text-align: right;\">\n",
       "      <th></th>\n",
       "      <th>City</th>\n",
       "    </tr>\n",
       "  </thead>\n",
       "  <tbody>\n",
       "    <tr>\n",
       "      <th>0</th>\n",
       "      <td>Delhi</td>\n",
       "    </tr>\n",
       "    <tr>\n",
       "      <th>1</th>\n",
       "      <td>Mumbai</td>\n",
       "    </tr>\n",
       "    <tr>\n",
       "      <th>2</th>\n",
       "      <td>Hyderabad</td>\n",
       "    </tr>\n",
       "    <tr>\n",
       "      <th>3</th>\n",
       "      <td>Chennai</td>\n",
       "    </tr>\n",
       "    <tr>\n",
       "      <th>4</th>\n",
       "      <td>Bangalore</td>\n",
       "    </tr>\n",
       "    <tr>\n",
       "      <th>5</th>\n",
       "      <td>Delhi</td>\n",
       "    </tr>\n",
       "    <tr>\n",
       "      <th>6</th>\n",
       "      <td>Hyderabad</td>\n",
       "    </tr>\n",
       "  </tbody>\n",
       "</table>\n",
       "</div>"
      ],
      "text/plain": [
       "        City\n",
       "0      Delhi\n",
       "1     Mumbai\n",
       "2  Hyderabad\n",
       "3    Chennai\n",
       "4  Bangalore\n",
       "5      Delhi\n",
       "6  Hyderabad"
      ]
     },
     "execution_count": 8,
     "metadata": {},
     "output_type": "execute_result"
    }
   ],
   "source": [
    "data = pd.DataFrame({'City': ['Delhi', 'Mumbai', 'Hyderabad', 'Chennai', 'Bangalore', 'Delhi', 'Hyderabad']})\n",
    "\n",
    "# Initialize SumEncoder\n",
    "encoder = ce.SumEncoder(cols=['City'], verbose=False)\n",
    "data\n"
   ]
  },
  {
   "cell_type": "code",
   "execution_count": 9,
   "id": "ce6d75b1-0b78-4919-b80d-7ad176c9a100",
   "metadata": {},
   "outputs": [
    {
     "data": {
      "text/html": [
       "<div>\n",
       "<style scoped>\n",
       "    .dataframe tbody tr th:only-of-type {\n",
       "        vertical-align: middle;\n",
       "    }\n",
       "\n",
       "    .dataframe tbody tr th {\n",
       "        vertical-align: top;\n",
       "    }\n",
       "\n",
       "    .dataframe thead th {\n",
       "        text-align: right;\n",
       "    }\n",
       "</style>\n",
       "<table border=\"1\" class=\"dataframe\">\n",
       "  <thead>\n",
       "    <tr style=\"text-align: right;\">\n",
       "      <th></th>\n",
       "      <th>intercept</th>\n",
       "      <th>City_0</th>\n",
       "      <th>City_1</th>\n",
       "      <th>City_2</th>\n",
       "      <th>City_3</th>\n",
       "    </tr>\n",
       "  </thead>\n",
       "  <tbody>\n",
       "    <tr>\n",
       "      <th>0</th>\n",
       "      <td>1</td>\n",
       "      <td>1.0</td>\n",
       "      <td>0.0</td>\n",
       "      <td>0.0</td>\n",
       "      <td>0.0</td>\n",
       "    </tr>\n",
       "    <tr>\n",
       "      <th>1</th>\n",
       "      <td>1</td>\n",
       "      <td>0.0</td>\n",
       "      <td>1.0</td>\n",
       "      <td>0.0</td>\n",
       "      <td>0.0</td>\n",
       "    </tr>\n",
       "    <tr>\n",
       "      <th>2</th>\n",
       "      <td>1</td>\n",
       "      <td>0.0</td>\n",
       "      <td>0.0</td>\n",
       "      <td>1.0</td>\n",
       "      <td>0.0</td>\n",
       "    </tr>\n",
       "    <tr>\n",
       "      <th>3</th>\n",
       "      <td>1</td>\n",
       "      <td>0.0</td>\n",
       "      <td>0.0</td>\n",
       "      <td>0.0</td>\n",
       "      <td>1.0</td>\n",
       "    </tr>\n",
       "    <tr>\n",
       "      <th>4</th>\n",
       "      <td>1</td>\n",
       "      <td>-1.0</td>\n",
       "      <td>-1.0</td>\n",
       "      <td>-1.0</td>\n",
       "      <td>-1.0</td>\n",
       "    </tr>\n",
       "    <tr>\n",
       "      <th>5</th>\n",
       "      <td>1</td>\n",
       "      <td>1.0</td>\n",
       "      <td>0.0</td>\n",
       "      <td>0.0</td>\n",
       "      <td>0.0</td>\n",
       "    </tr>\n",
       "    <tr>\n",
       "      <th>6</th>\n",
       "      <td>1</td>\n",
       "      <td>0.0</td>\n",
       "      <td>0.0</td>\n",
       "      <td>1.0</td>\n",
       "      <td>0.0</td>\n",
       "    </tr>\n",
       "  </tbody>\n",
       "</table>\n",
       "</div>"
      ],
      "text/plain": [
       "   intercept  City_0  City_1  City_2  City_3\n",
       "0          1     1.0     0.0     0.0     0.0\n",
       "1          1     0.0     1.0     0.0     0.0\n",
       "2          1     0.0     0.0     1.0     0.0\n",
       "3          1     0.0     0.0     0.0     1.0\n",
       "4          1    -1.0    -1.0    -1.0    -1.0\n",
       "5          1     1.0     0.0     0.0     0.0\n",
       "6          1     0.0     0.0     1.0     0.0"
      ]
     },
     "execution_count": 9,
     "metadata": {},
     "output_type": "execute_result"
    }
   ],
   "source": [
    "encoder.fit_transform(data)"
   ]
  },
  {
   "cell_type": "markdown",
   "id": "0837bde4-be49-41bb-aed6-233763e4f9d6",
   "metadata": {},
   "source": [
    "<b>Explanation:<br>\n",
    "\n",
    "Sum encoding is used to transform categorical data into numerical values where the encoded columns sum to zero across all categories, making it suitable for statistical models that benefit from centered data. Unlike one-hot encoding, it creates k-1 columns for k categories, reducing dimensionality slightly while treating all categories equally without a fixed baseline. In the City column, this technique can help models that require contrast coding or work better with zero-centered categorical features, offering an alternative representation to one-hot encoding."
   ]
  },
  {
   "cell_type": "markdown",
   "id": "05b6fe32-6b86-4691-b5d2-e565456f3933",
   "metadata": {},
   "source": [
    "#### Time Complexity Graph"
   ]
  },
  {
   "cell_type": "code",
   "execution_count": 61,
   "id": "55cb019a-f788-44bd-bad5-8f76d4993a3e",
   "metadata": {},
   "outputs": [
    {
     "data": {
      "image/png": "[encoded data removed]",
      "text/plain": [
       "<Figure size 640x480 with 1 Axes>"
      ]
     },
     "metadata": {},
     "output_type": "display_data"
    }
   ],
   "source": [
    "sizes = sorted([random.randint(10, 100000) for _ in range(7)])\n",
    "times = []\n",
    "target = [random.choice([0, 1]) for _ in range(100000)]\n",
    "\n",
    "for size in sizes:\n",
    "    city_list = ['Delhi', 'Mumbai', 'Hyderabad', 'Chennai', 'Bangalore'] * (size // 5) + ['Delhi', 'Mumbai', 'Hyderabad', 'Chennai', 'Bangalore'][:size % 5]\n",
    "    data = pd.DataFrame({\n",
    "        'City': city_list,\n",
    "        'Target': target[:size]\n",
    "    })\n",
    "    \n",
    "    start_time = time.time()\n",
    "    encoding = data.groupby('City')['Target'].mean()\n",
    "    data['City_encoded'] = data['City'].map(encoding)\n",
    "    times.append(time.time() - start_time)\n",
    "\n",
    "plt.plot(sizes, times, marker='o', color='g', label='Effect Encoding Time')\n",
    "plt.title(\"Time Complexity of Effect Encoding\")\n",
    "plt.xlabel(\"Number of Rows\")\n",
    "plt.ylabel(\"Time (seconds)\")\n",
    "plt.grid(True)\n",
    "plt.legend()\n",
    "plt.show()\n"
   ]
  },
  {
   "cell_type": "markdown",
   "id": "c8e2df88-310a-4764-9c62-d6efe882bf86",
   "metadata": {},
   "source": [
    "### Hash Encoder"
   ]
  },
  {
   "cell_type": "code",
   "execution_count": 10,
   "id": "f0bd2286-d700-4d0f-b44c-f1cbcfc77a4f",
   "metadata": {},
   "outputs": [
    {
     "name": "stdout",
     "output_type": "stream",
     "text": [
      "       Month\n",
      "0    January\n",
      "1      April\n",
      "2      March\n",
      "3      April\n",
      "4    Februay\n",
      "5       June\n",
      "6       July\n",
      "7       June\n",
      "8  September\n"
     ]
    }
   ],
   "source": [
    "data=pd.DataFrame({'Month':['January','April','March','April','Februay','June','July','June','September']})\n",
    "\n",
    "#Create object for hash encoder\n",
    "encoder=ce.HashingEncoder(cols='Month',n_components=6)\n",
    "print(data)"
   ]
  },
  {
   "cell_type": "code",
   "execution_count": 11,
   "id": "55fa06c8-243a-436a-9ad9-97dbbb7e64d7",
   "metadata": {},
   "outputs": [
    {
     "data": {
      "text/html": [
       "<div>\n",
       "<style scoped>\n",
       "    .dataframe tbody tr th:only-of-type {\n",
       "        vertical-align: middle;\n",
       "    }\n",
       "\n",
       "    .dataframe tbody tr th {\n",
       "        vertical-align: top;\n",
       "    }\n",
       "\n",
       "    .dataframe thead th {\n",
       "        text-align: right;\n",
       "    }\n",
       "</style>\n",
       "<table border=\"1\" class=\"dataframe\">\n",
       "  <thead>\n",
       "    <tr style=\"text-align: right;\">\n",
       "      <th></th>\n",
       "      <th>col_0</th>\n",
       "      <th>col_1</th>\n",
       "      <th>col_2</th>\n",
       "      <th>col_3</th>\n",
       "      <th>col_4</th>\n",
       "      <th>col_5</th>\n",
       "    </tr>\n",
       "  </thead>\n",
       "  <tbody>\n",
       "    <tr>\n",
       "      <th>0</th>\n",
       "      <td>0</td>\n",
       "      <td>0</td>\n",
       "      <td>0</td>\n",
       "      <td>0</td>\n",
       "      <td>1</td>\n",
       "      <td>0</td>\n",
       "    </tr>\n",
       "    <tr>\n",
       "      <th>1</th>\n",
       "      <td>0</td>\n",
       "      <td>0</td>\n",
       "      <td>0</td>\n",
       "      <td>1</td>\n",
       "      <td>0</td>\n",
       "      <td>0</td>\n",
       "    </tr>\n",
       "    <tr>\n",
       "      <th>2</th>\n",
       "      <td>0</td>\n",
       "      <td>0</td>\n",
       "      <td>0</td>\n",
       "      <td>0</td>\n",
       "      <td>1</td>\n",
       "      <td>0</td>\n",
       "    </tr>\n",
       "    <tr>\n",
       "      <th>3</th>\n",
       "      <td>0</td>\n",
       "      <td>0</td>\n",
       "      <td>0</td>\n",
       "      <td>1</td>\n",
       "      <td>0</td>\n",
       "      <td>0</td>\n",
       "    </tr>\n",
       "    <tr>\n",
       "      <th>4</th>\n",
       "      <td>0</td>\n",
       "      <td>0</td>\n",
       "      <td>0</td>\n",
       "      <td>1</td>\n",
       "      <td>0</td>\n",
       "      <td>0</td>\n",
       "    </tr>\n",
       "    <tr>\n",
       "      <th>5</th>\n",
       "      <td>0</td>\n",
       "      <td>1</td>\n",
       "      <td>0</td>\n",
       "      <td>0</td>\n",
       "      <td>0</td>\n",
       "      <td>0</td>\n",
       "    </tr>\n",
       "    <tr>\n",
       "      <th>6</th>\n",
       "      <td>1</td>\n",
       "      <td>0</td>\n",
       "      <td>0</td>\n",
       "      <td>0</td>\n",
       "      <td>0</td>\n",
       "      <td>0</td>\n",
       "    </tr>\n",
       "    <tr>\n",
       "      <th>7</th>\n",
       "      <td>0</td>\n",
       "      <td>1</td>\n",
       "      <td>0</td>\n",
       "      <td>0</td>\n",
       "      <td>0</td>\n",
       "      <td>0</td>\n",
       "    </tr>\n",
       "    <tr>\n",
       "      <th>8</th>\n",
       "      <td>0</td>\n",
       "      <td>0</td>\n",
       "      <td>0</td>\n",
       "      <td>0</td>\n",
       "      <td>1</td>\n",
       "      <td>0</td>\n",
       "    </tr>\n",
       "  </tbody>\n",
       "</table>\n",
       "</div>"
      ],
      "text/plain": [
       "   col_0  col_1  col_2  col_3  col_4  col_5\n",
       "0      0      0      0      0      1      0\n",
       "1      0      0      0      1      0      0\n",
       "2      0      0      0      0      1      0\n",
       "3      0      0      0      1      0      0\n",
       "4      0      0      0      1      0      0\n",
       "5      0      1      0      0      0      0\n",
       "6      1      0      0      0      0      0\n",
       "7      0      1      0      0      0      0\n",
       "8      0      0      0      0      1      0"
      ]
     },
     "execution_count": 11,
     "metadata": {},
     "output_type": "execute_result"
    }
   ],
   "source": [
    "#Fit and Transform Data\n",
    "encoder.fit_transform(data)"
   ]
  },
  {
   "cell_type": "markdown",
   "id": "e8055212-7f7f-4cfd-bfc1-f2d1d93b9caf",
   "metadata": {},
   "source": [
    "<b>Explanation:<br>\n",
    "\n",
    "Hash encoding is used to efficiently transform categorical data into a fixed number of dimensions (n_components), making it ideal for high-cardinality data with many unique categories. Instead of creating a separate column for each category, as in one-hot encoding, it applies a hash function to compress categories into a predefined number of features, reducing memory usage and dimensionality. In the Month column, this approach encodes categories like January and April into six numerical columns (n_components=6), ensuring scalability and efficiency for large datasets. While it may introduce hash collisions, this trade-off is acceptable for managing large or sparse data."
   ]
  },
  {
   "cell_type": "markdown",
   "id": "f1694c5f-7124-416e-88d5-0497669737cf",
   "metadata": {},
   "source": [
    "#### Time Complexity Graph"
   ]
  },
  {
   "cell_type": "code",
   "execution_count": 63,
   "id": "0017dfa6-c22e-411c-a4d0-4a06524205e5",
   "metadata": {},
   "outputs": [
    {
     "data": {
      "image/png": "[encoded data removed]",
      "text/plain": [
       "<Figure size 640x480 with 1 Axes>"
      ]
     },
     "metadata": {},
     "output_type": "display_data"
    }
   ],
   "source": [
    "sizes = sorted([random.randint(10, 100000) for _ in range(7)])\n",
    "times = []\n",
    "target = [random.choice([0, 1]) for _ in range(100000)]\n",
    "\n",
    "for size in sizes:\n",
    "    city_list = ['Delhi', 'Mumbai', 'Hyderabad', 'Chennai', 'Bangalore'] * (size // 5) + ['Delhi', 'Mumbai', 'Hyderabad', 'Chennai', 'Bangalore'][:size % 5]\n",
    "    data = pd.DataFrame({\n",
    "        'City': city_list,\n",
    "        'Target': target[:size]\n",
    "    })\n",
    "    \n",
    "    start_time = time.time()\n",
    "    times.append(time.time() - start_time)\n",
    "\n",
    "plt.plot(sizes, times, marker='o', color='orange', label='Hash Encoding Time')\n",
    "plt.title(\"Time Complexity of Hash Encoding\")\n",
    "plt.xlabel(\"Number of Rows\")\n",
    "plt.ylabel(\"Time (seconds)\")\n",
    "plt.grid(True)\n",
    "plt.legend()\n",
    "plt.show()\n"
   ]
  },
  {
   "cell_type": "markdown",
   "id": "4ec98be6-9df9-4217-85e6-ac97350e6621",
   "metadata": {},
   "source": [
    "### Binary Encoding"
   ]
  },
  {
   "cell_type": "code",
   "execution_count": 12,
   "id": "42746482-d546-4165-b415-fef5ae12ed39",
   "metadata": {},
   "outputs": [
    {
     "data": {
      "text/html": [
       "<div>\n",
       "<style scoped>\n",
       "    .dataframe tbody tr th:only-of-type {\n",
       "        vertical-align: middle;\n",
       "    }\n",
       "\n",
       "    .dataframe tbody tr th {\n",
       "        vertical-align: top;\n",
       "    }\n",
       "\n",
       "    .dataframe thead th {\n",
       "        text-align: right;\n",
       "    }\n",
       "</style>\n",
       "<table border=\"1\" class=\"dataframe\">\n",
       "  <thead>\n",
       "    <tr style=\"text-align: right;\">\n",
       "      <th></th>\n",
       "      <th>City</th>\n",
       "    </tr>\n",
       "  </thead>\n",
       "  <tbody>\n",
       "    <tr>\n",
       "      <th>0</th>\n",
       "      <td>Delhi</td>\n",
       "    </tr>\n",
       "    <tr>\n",
       "      <th>1</th>\n",
       "      <td>Mumbai</td>\n",
       "    </tr>\n",
       "    <tr>\n",
       "      <th>2</th>\n",
       "      <td>Hyderabad</td>\n",
       "    </tr>\n",
       "    <tr>\n",
       "      <th>3</th>\n",
       "      <td>Chennai</td>\n",
       "    </tr>\n",
       "    <tr>\n",
       "      <th>4</th>\n",
       "      <td>Bangalore</td>\n",
       "    </tr>\n",
       "    <tr>\n",
       "      <th>5</th>\n",
       "      <td>Delhi</td>\n",
       "    </tr>\n",
       "    <tr>\n",
       "      <th>6</th>\n",
       "      <td>Hyderabad</td>\n",
       "    </tr>\n",
       "    <tr>\n",
       "      <th>7</th>\n",
       "      <td>Mumbai</td>\n",
       "    </tr>\n",
       "    <tr>\n",
       "      <th>8</th>\n",
       "      <td>Agra</td>\n",
       "    </tr>\n",
       "  </tbody>\n",
       "</table>\n",
       "</div>"
      ],
      "text/plain": [
       "        City\n",
       "0      Delhi\n",
       "1     Mumbai\n",
       "2  Hyderabad\n",
       "3    Chennai\n",
       "4  Bangalore\n",
       "5      Delhi\n",
       "6  Hyderabad\n",
       "7     Mumbai\n",
       "8       Agra"
      ]
     },
     "execution_count": 12,
     "metadata": {},
     "output_type": "execute_result"
    }
   ],
   "source": [
    "# Sample data\n",
    "data = pd.DataFrame({'City': ['Delhi', 'Mumbai', 'Hyderabad', 'Chennai', 'Bangalore', 'Delhi', 'Hyderabad', 'Mumbai', 'Agra']})\n",
    "\n",
    "# Initialize BinaryEncoder\n",
    "encoder = ce.BinaryEncoder(cols=['City'], return_df=True)\n",
    "\n",
    "data\n"
   ]
  },
  {
   "cell_type": "code",
   "execution_count": 13,
   "id": "fd9357e6-c39f-48d5-9641-a9b132bf945a",
   "metadata": {},
   "outputs": [
    {
     "data": {
      "text/html": [
       "<div>\n",
       "<style scoped>\n",
       "    .dataframe tbody tr th:only-of-type {\n",
       "        vertical-align: middle;\n",
       "    }\n",
       "\n",
       "    .dataframe tbody tr th {\n",
       "        vertical-align: top;\n",
       "    }\n",
       "\n",
       "    .dataframe thead th {\n",
       "        text-align: right;\n",
       "    }\n",
       "</style>\n",
       "<table border=\"1\" class=\"dataframe\">\n",
       "  <thead>\n",
       "    <tr style=\"text-align: right;\">\n",
       "      <th></th>\n",
       "      <th>City_0</th>\n",
       "      <th>City_1</th>\n",
       "      <th>City_2</th>\n",
       "    </tr>\n",
       "  </thead>\n",
       "  <tbody>\n",
       "    <tr>\n",
       "      <th>0</th>\n",
       "      <td>0</td>\n",
       "      <td>0</td>\n",
       "      <td>1</td>\n",
       "    </tr>\n",
       "    <tr>\n",
       "      <th>1</th>\n",
       "      <td>0</td>\n",
       "      <td>1</td>\n",
       "      <td>0</td>\n",
       "    </tr>\n",
       "    <tr>\n",
       "      <th>2</th>\n",
       "      <td>0</td>\n",
       "      <td>1</td>\n",
       "      <td>1</td>\n",
       "    </tr>\n",
       "    <tr>\n",
       "      <th>3</th>\n",
       "      <td>1</td>\n",
       "      <td>0</td>\n",
       "      <td>0</td>\n",
       "    </tr>\n",
       "    <tr>\n",
       "      <th>4</th>\n",
       "      <td>1</td>\n",
       "      <td>0</td>\n",
       "      <td>1</td>\n",
       "    </tr>\n",
       "    <tr>\n",
       "      <th>5</th>\n",
       "      <td>0</td>\n",
       "      <td>0</td>\n",
       "      <td>1</td>\n",
       "    </tr>\n",
       "    <tr>\n",
       "      <th>6</th>\n",
       "      <td>0</td>\n",
       "      <td>1</td>\n",
       "      <td>1</td>\n",
       "    </tr>\n",
       "    <tr>\n",
       "      <th>7</th>\n",
       "      <td>0</td>\n",
       "      <td>1</td>\n",
       "      <td>0</td>\n",
       "    </tr>\n",
       "    <tr>\n",
       "      <th>8</th>\n",
       "      <td>1</td>\n",
       "      <td>1</td>\n",
       "      <td>0</td>\n",
       "    </tr>\n",
       "  </tbody>\n",
       "</table>\n",
       "</div>"
      ],
      "text/plain": [
       "   City_0  City_1  City_2\n",
       "0       0       0       1\n",
       "1       0       1       0\n",
       "2       0       1       1\n",
       "3       1       0       0\n",
       "4       1       0       1\n",
       "5       0       0       1\n",
       "6       0       1       1\n",
       "7       0       1       0\n",
       "8       1       1       0"
      ]
     },
     "execution_count": 13,
     "metadata": {},
     "output_type": "execute_result"
    }
   ],
   "source": [
    "encoder.fit_transform(data)"
   ]
  },
  {
   "cell_type": "markdown",
   "id": "41b5a40b-ab3f-4315-b4a8-c2c48191192d",
   "metadata": {},
   "source": [
    "<b>Explanation:<br>\n",
    "\n",
    "\n",
    "Binary encoding transforms categorical data into a compact binary format by first assigning each category a unique integer and then converting these integers into binary representation. It is ideal for high-cardinality data, as it reduces the number of generated columns compared to one-hot encoding, requiring only log2(k) columns for k categories. In the City column, categories like Delhi and Mumbai are converted into binary digits (e.g., Delhi → 001, Mumbai → 010), creating a more efficient representation without assuming any ordinal relationship between categories. This approach balances dimensionality reduction with preserving category distinctiveness."
   ]
  },
  {
   "cell_type": "markdown",
   "id": "388e246d-6c1a-484d-9be0-89460688e417",
   "metadata": {},
   "source": [
    "#### Time Complexity Graph"
   ]
  },
  {
   "cell_type": "code",
   "execution_count": 65,
   "id": "471dbfd8-ebc1-46cf-a660-3239027a34d5",
   "metadata": {},
   "outputs": [
    {
     "data": {
      "image/png": "[encoded data removed]",
      "text/plain": [
       "<Figure size 640x480 with 1 Axes>"
      ]
     },
     "metadata": {},
     "output_type": "display_data"
    }
   ],
   "source": [
    "sizes = sorted([random.randint(10, 100000) for _ in range(7)])\n",
    "times = []\n",
    "\n",
    "for size in sizes:\n",
    "    data = pd.DataFrame({'City': ['Delhi', 'Mumbai', 'Hyderabad', 'Chennai', 'Bangalore'] * (size // 5)})\n",
    "    \n",
    "    start_time = time.time()\n",
    "    times.append(time.time() - start_time)\n",
    "\n",
    "plt.plot(sizes, times, marker='o', color='purple', label='Binary Encoding Time')\n",
    "plt.title(\"Time Complexity of Binary Encoding\")\n",
    "plt.xlabel(\"Number of Rows\")\n",
    "plt.ylabel(\"Time (seconds)\")\n",
    "plt.grid(True)\n",
    "plt.legend()\n",
    "plt.show()\n"
   ]
  },
  {
   "cell_type": "markdown",
   "id": "02c404a7-3e5f-446e-88a1-694462a39149",
   "metadata": {},
   "source": [
    "### Base N Encoding"
   ]
  },
  {
   "cell_type": "code",
   "execution_count": 14,
   "id": "8cace7f3-f003-4c67-b615-e24a6c9e7c53",
   "metadata": {},
   "outputs": [
    {
     "data": {
      "text/html": [
       "<div>\n",
       "<style scoped>\n",
       "    .dataframe tbody tr th:only-of-type {\n",
       "        vertical-align: middle;\n",
       "    }\n",
       "\n",
       "    .dataframe tbody tr th {\n",
       "        vertical-align: top;\n",
       "    }\n",
       "\n",
       "    .dataframe thead th {\n",
       "        text-align: right;\n",
       "    }\n",
       "</style>\n",
       "<table border=\"1\" class=\"dataframe\">\n",
       "  <thead>\n",
       "    <tr style=\"text-align: right;\">\n",
       "      <th></th>\n",
       "      <th>City</th>\n",
       "    </tr>\n",
       "  </thead>\n",
       "  <tbody>\n",
       "    <tr>\n",
       "      <th>0</th>\n",
       "      <td>Delhi</td>\n",
       "    </tr>\n",
       "    <tr>\n",
       "      <th>1</th>\n",
       "      <td>Mumbai</td>\n",
       "    </tr>\n",
       "    <tr>\n",
       "      <th>2</th>\n",
       "      <td>Hyderabad</td>\n",
       "    </tr>\n",
       "    <tr>\n",
       "      <th>3</th>\n",
       "      <td>Chennai</td>\n",
       "    </tr>\n",
       "    <tr>\n",
       "      <th>4</th>\n",
       "      <td>Bangalore</td>\n",
       "    </tr>\n",
       "    <tr>\n",
       "      <th>5</th>\n",
       "      <td>Delhi</td>\n",
       "    </tr>\n",
       "    <tr>\n",
       "      <th>6</th>\n",
       "      <td>Hyderabad</td>\n",
       "    </tr>\n",
       "    <tr>\n",
       "      <th>7</th>\n",
       "      <td>Mumbai</td>\n",
       "    </tr>\n",
       "    <tr>\n",
       "      <th>8</th>\n",
       "      <td>Agra</td>\n",
       "    </tr>\n",
       "  </tbody>\n",
       "</table>\n",
       "</div>"
      ],
      "text/plain": [
       "        City\n",
       "0      Delhi\n",
       "1     Mumbai\n",
       "2  Hyderabad\n",
       "3    Chennai\n",
       "4  Bangalore\n",
       "5      Delhi\n",
       "6  Hyderabad\n",
       "7     Mumbai\n",
       "8       Agra"
      ]
     },
     "execution_count": 14,
     "metadata": {},
     "output_type": "execute_result"
    }
   ],
   "source": [
    "\n",
    "\n",
    "\n",
    "data = pd.DataFrame({'City': ['Delhi', 'Mumbai', 'Hyderabad', 'Chennai', 'Bangalore', 'Delhi', 'Hyderabad', 'Mumbai', 'Agra']})\n",
    "\n",
    "\n",
    "encoder = ce.BaseNEncoder(cols=['City'], return_df=True, base=5)\n",
    "data\n",
    "\n",
    "\n"
   ]
  },
  {
   "cell_type": "code",
   "execution_count": 15,
   "id": "706e2c7b-9275-4afb-87d2-80f78dc23ca6",
   "metadata": {},
   "outputs": [
    {
     "data": {
      "text/html": [
       "<div>\n",
       "<style scoped>\n",
       "    .dataframe tbody tr th:only-of-type {\n",
       "        vertical-align: middle;\n",
       "    }\n",
       "\n",
       "    .dataframe tbody tr th {\n",
       "        vertical-align: top;\n",
       "    }\n",
       "\n",
       "    .dataframe thead th {\n",
       "        text-align: right;\n",
       "    }\n",
       "</style>\n",
       "<table border=\"1\" class=\"dataframe\">\n",
       "  <thead>\n",
       "    <tr style=\"text-align: right;\">\n",
       "      <th></th>\n",
       "      <th>City_0</th>\n",
       "      <th>City_1</th>\n",
       "    </tr>\n",
       "  </thead>\n",
       "  <tbody>\n",
       "    <tr>\n",
       "      <th>0</th>\n",
       "      <td>0</td>\n",
       "      <td>1</td>\n",
       "    </tr>\n",
       "    <tr>\n",
       "      <th>1</th>\n",
       "      <td>0</td>\n",
       "      <td>2</td>\n",
       "    </tr>\n",
       "    <tr>\n",
       "      <th>2</th>\n",
       "      <td>0</td>\n",
       "      <td>3</td>\n",
       "    </tr>\n",
       "    <tr>\n",
       "      <th>3</th>\n",
       "      <td>0</td>\n",
       "      <td>4</td>\n",
       "    </tr>\n",
       "    <tr>\n",
       "      <th>4</th>\n",
       "      <td>1</td>\n",
       "      <td>0</td>\n",
       "    </tr>\n",
       "    <tr>\n",
       "      <th>5</th>\n",
       "      <td>0</td>\n",
       "      <td>1</td>\n",
       "    </tr>\n",
       "    <tr>\n",
       "      <th>6</th>\n",
       "      <td>0</td>\n",
       "      <td>3</td>\n",
       "    </tr>\n",
       "    <tr>\n",
       "      <th>7</th>\n",
       "      <td>0</td>\n",
       "      <td>2</td>\n",
       "    </tr>\n",
       "    <tr>\n",
       "      <th>8</th>\n",
       "      <td>1</td>\n",
       "      <td>1</td>\n",
       "    </tr>\n",
       "  </tbody>\n",
       "</table>\n",
       "</div>"
      ],
      "text/plain": [
       "   City_0  City_1\n",
       "0       0       1\n",
       "1       0       2\n",
       "2       0       3\n",
       "3       0       4\n",
       "4       1       0\n",
       "5       0       1\n",
       "6       0       3\n",
       "7       0       2\n",
       "8       1       1"
      ]
     },
     "execution_count": 15,
     "metadata": {},
     "output_type": "execute_result"
    }
   ],
   "source": [
    "encoder.fit_transform(data)"
   ]
  },
  {
   "cell_type": "markdown",
   "id": "b6f828cc-f1a4-4418-837d-7cd066d0e467",
   "metadata": {},
   "source": [
    "<b>Explanation:<br>\n",
    "\n",
    "BaseN encoding transforms categorical data into a numerical format by representing each category as a number in a specified base (in this case, base 5). It first assigns a unique integer to each category and then converts these integers into a base-5 numeral system. For example, categories in the City column like Delhi, Mumbai, and Hyderabad will be encoded as numbers in base-5, making the representation more compact compared to one-hot encoding while maintaining category uniqueness. This technique is particularly useful for reducing dimensionality in datasets with high cardinality while still allowing models to distinguish between different categories."
   ]
  },
  {
   "cell_type": "markdown",
   "id": "d4ca534a-f4a5-48f3-be6c-3df60680e83d",
   "metadata": {},
   "source": [
    "#### Time Complexity Graph"
   ]
  },
  {
   "cell_type": "code",
   "execution_count": 67,
   "id": "a015d21f-2d58-4538-bf34-22516c2ccd20",
   "metadata": {},
   "outputs": [
    {
     "data": {
      "image/png": "[encoded data removed]",
      "text/plain": [
       "<Figure size 640x480 with 1 Axes>"
      ]
     },
     "metadata": {},
     "output_type": "display_data"
    }
   ],
   "source": [
    "sizes = sorted([random.randint(10, 100000) for _ in range(7)])\n",
    "times = []\n",
    "\n",
    "for size in sizes:\n",
    "    data = pd.DataFrame({'City': ['Delhi', 'Mumbai', 'Hyderabad', 'Chennai', 'Bangalore'] * (size // 5)})\n",
    "    \n",
    "    start_time = time.time()\n",
    "    times.append(time.time() - start_time)\n",
    "\n",
    "plt.plot(sizes, times, marker='o', color='red', label='Base-N Encoding Time')\n",
    "plt.title(\"Time Complexity of Base-N Encoding\")\n",
    "plt.xlabel(\"Number of Rows\")\n",
    "plt.ylabel(\"Time (seconds)\")\n",
    "plt.grid(True)\n",
    "plt.legend()\n",
    "plt.show()\n"
   ]
  },
  {
   "cell_type": "markdown",
   "id": "90fc4079-c7a7-49f8-b8fa-4c0a90138774",
   "metadata": {},
   "source": [
    "### Target Encoding"
   ]
  },
  {
   "cell_type": "code",
   "execution_count": 16,
   "id": "4e520e7c-66fe-4368-b05e-dc5f4585654b",
   "metadata": {},
   "outputs": [
    {
     "data": {
      "text/html": [
       "<div>\n",
       "<style scoped>\n",
       "    .dataframe tbody tr th:only-of-type {\n",
       "        vertical-align: middle;\n",
       "    }\n",
       "\n",
       "    .dataframe tbody tr th {\n",
       "        vertical-align: top;\n",
       "    }\n",
       "\n",
       "    .dataframe thead th {\n",
       "        text-align: right;\n",
       "    }\n",
       "</style>\n",
       "<table border=\"1\" class=\"dataframe\">\n",
       "  <thead>\n",
       "    <tr style=\"text-align: right;\">\n",
       "      <th></th>\n",
       "      <th>class</th>\n",
       "      <th>Marks</th>\n",
       "    </tr>\n",
       "  </thead>\n",
       "  <tbody>\n",
       "    <tr>\n",
       "      <th>0</th>\n",
       "      <td>A</td>\n",
       "      <td>50</td>\n",
       "    </tr>\n",
       "    <tr>\n",
       "      <th>1</th>\n",
       "      <td>B</td>\n",
       "      <td>30</td>\n",
       "    </tr>\n",
       "    <tr>\n",
       "      <th>2</th>\n",
       "      <td>C</td>\n",
       "      <td>70</td>\n",
       "    </tr>\n",
       "    <tr>\n",
       "      <th>3</th>\n",
       "      <td>B</td>\n",
       "      <td>80</td>\n",
       "    </tr>\n",
       "    <tr>\n",
       "      <th>4</th>\n",
       "      <td>C</td>\n",
       "      <td>45</td>\n",
       "    </tr>\n",
       "    <tr>\n",
       "      <th>5</th>\n",
       "      <td>A</td>\n",
       "      <td>97</td>\n",
       "    </tr>\n",
       "    <tr>\n",
       "      <th>6</th>\n",
       "      <td>A</td>\n",
       "      <td>80</td>\n",
       "    </tr>\n",
       "    <tr>\n",
       "      <th>7</th>\n",
       "      <td>A</td>\n",
       "      <td>68</td>\n",
       "    </tr>\n",
       "  </tbody>\n",
       "</table>\n",
       "</div>"
      ],
      "text/plain": [
       "  class  Marks\n",
       "0     A     50\n",
       "1     B     30\n",
       "2     C     70\n",
       "3     B     80\n",
       "4     C     45\n",
       "5     A     97\n",
       "6     A     80\n",
       "7     A     68"
      ]
     },
     "execution_count": 16,
     "metadata": {},
     "output_type": "execute_result"
    }
   ],
   "source": [
    "data = pd.DataFrame({\n",
    "    'class': ['A', 'B', 'C', 'B', 'C', 'A', 'A', 'A'],\n",
    "    'Marks': [50, 30, 70, 80, 45, 97, 80, 68]\n",
    "})\n",
    "\n",
    "# Calculate the mean of Marks for each class (Target Encoding)\n",
    "target_encoding = data.groupby('class')['Marks'].mean()\n",
    "data\n"
   ]
  },
  {
   "cell_type": "code",
   "execution_count": 17,
   "id": "f3d19cb3-a28b-413b-b772-035794c36324",
   "metadata": {},
   "outputs": [
    {
     "name": "stdout",
     "output_type": "stream",
     "text": [
      "  class  Marks  class_encoded\n",
      "0     A     50          73.75\n",
      "1     B     30          55.00\n",
      "2     C     70          57.50\n",
      "3     B     80          55.00\n",
      "4     C     45          57.50\n",
      "5     A     97          73.75\n",
      "6     A     80          73.75\n",
      "7     A     68          73.75\n"
     ]
    }
   ],
   "source": [
    "data['class_encoded'] = data['class'].map(target_encoding)\n",
    "\n",
    "# Display the encoded data\n",
    "print(data)"
   ]
  },
  {
   "cell_type": "markdown",
   "id": "5afd70d9-d433-4ca1-b0e1-9a82053a5f1b",
   "metadata": {},
   "source": [
    "<b>Explanation:<br>\n",
    "\n",
    "Target encoding is used to replace the categorical values in the class column with the mean of the Marks for each class. The groupby('class')    marks.mean() operation calculates the mean marks for each unique class (A, B, C), resulting in the following: class A has an average mark of 75, class B has 55, and class C has 57. This technique is useful for encoding categorical variables by incorporating information from the target variable, allowing models to capture relationships between the categorical feature and the target. However, it should be used carefully to avoid overfitting."
   ]
  },
  {
   "cell_type": "markdown",
   "id": "1ff0ec0b-b413-4ba6-864b-f12710a64db5",
   "metadata": {},
   "source": [
    "#### Time Complexity Graph"
   ]
  },
  {
   "cell_type": "code",
   "execution_count": 70,
   "id": "dacf3fce-0dfa-4004-a15c-bbf836cd1633",
   "metadata": {},
   "outputs": [
    {
     "data": {
      "image/png": "[encoded data removed]",
      "text/plain": [
       "<Figure size 640x480 with 1 Axes>"
      ]
     },
     "metadata": {},
     "output_type": "display_data"
    }
   ],
   "source": [
    "sizes = sorted([random.randint(10, 100000) for _ in range(7)])\n",
    "times = []\n",
    "target = [random.choice([0, 1]) for _ in range(100000)]\n",
    "\n",
    "for size in sizes:\n",
    "    cities = ['Delhi', 'Mumbai', 'Hyderabad', 'Chennai', 'Bangalore'] * ((size // 5) + 1) \n",
    "    cities = cities[:size]  \n",
    "    data = pd.DataFrame({\n",
    "        'City': cities, \n",
    "        'Target': target[:size]  \n",
    "    })\n",
    "    \n",
    "    start_time = time.time()\n",
    "    times.append(time.time() - start_time)\n",
    "\n",
    "plt.plot(sizes, times, marker='o', color='purple', label='Target Encoding Time')\n",
    "plt.title(\"Time Complexity of Target Encoding\")\n",
    "plt.xlabel(\"Number of Rows\")\n",
    "plt.ylabel(\"Time (seconds)\")\n",
    "plt.grid(True)\n",
    "plt.legend()\n",
    "plt.show()\n"
   ]
  },
  {
   "cell_type": "code",
   "execution_count": null,
   "id": "af22ac52-41b2-40c0-a99a-c48f1815d02b",
   "metadata": {},
   "outputs": [],
   "source": []
  },
  {
   "cell_type": "code",
   "execution_count": null,
   "id": "36927df2-a988-45da-ad6f-5e2069b7a0fd",
   "metadata": {},
   "outputs": [],
   "source": []
  }
 ],
 "metadata": {
  "kernelspec": {
   "display_name": "Python 3 (ipykernel)",
   "language": "python",
   "name": "python3"
  },
  "language_info": {
   "codemirror_mode": {
    "name": "ipython",
    "version": 3
   },
   "file_extension": ".py",
   "mimetype": "text/x-python",
   "name": "python",
   "nbconvert_exporter": "python",
   "pygments_lexer": "ipython3",
   "version": "3.13.0"
  }
 },
 "nbformat": 4,
 "nbformat_minor": 5
}
